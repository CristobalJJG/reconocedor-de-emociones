{
 "cells": [
  {
   "cell_type": "markdown",
   "metadata": {},
   "source": [
    "pip install lxml"
   ]
  },
  {
   "cell_type": "code",
   "execution_count": 6,
   "metadata": {},
   "outputs": [
    {
     "name": "stdout",
     "output_type": "stream",
     "text": [
      "Total 21 Image Found!\n",
      "Total 0 Images Downloaded Out of 21\n"
     ]
    }
   ],
   "source": [
    "from bs4 import *\n",
    "import requests\n",
    "import os\n",
    " \n",
    "# CREATE FOLDER\n",
    "def folder_create(images):\n",
    "    try:\n",
    "        folder_name = \"Pruebas\"\n",
    "        # folder creation\n",
    "        os.mkdir(folder_name)\n",
    " \n",
    "    # if folder exists with that name, ask another name\n",
    "    except:\n",
    "        print(\"Folder Exist with that name!\")\n",
    "        folder_create()\n",
    " \n",
    "    # image downloading start\n",
    "    download_images(images, folder_name)\n",
    " \n",
    " \n",
    "# DOWNLOAD ALL IMAGES FROM THAT URL\n",
    "def download_images(images, folder_name):\n",
    "   \n",
    "    # initial count is zero\n",
    "    count = 0\n",
    " \n",
    "    # print total images found in URL\n",
    "    print(f\"Total {len(images)} Image Found!\")\n",
    " \n",
    "    # checking if images is not zero\n",
    "    if len(images) != 0:\n",
    "        for i, image in enumerate(images):\n",
    "            if(\"data-srcset\" in image): link = image[\"data-srcset\"]\n",
    "            elif(\"data-src\" in image): link = image[\"data-src\"]\n",
    "            elif(\"data-fallback-src\" in image): link = image[\"data-fallback-src\"]\n",
    "            elif(\"src\" in image): link = image[\"src\"]\n",
    "            else: pass\n",
    " \n",
    "            # After getting Image Source URL\n",
    "            # We will try to get the content of image\n",
    "            try: \n",
    "                r = requests.get(link).content\n",
    "                try: r = str(r, 'utf-8')\n",
    "                except UnicodeDecodeError:\n",
    "                    # After checking above condition, Image Download start\n",
    "                    with open(f\"{folder_name}/images{i+1}.jpg\", \"wb+\") as f:\n",
    "                        f.write(r)\n",
    " \n",
    "                    # counting number of image downloaded\n",
    "                    count += 1\n",
    "            except: pass\n",
    " \n",
    "        # There might be possible, that all images not download if all images download\n",
    "        if count == len(images):\n",
    "            print(\"All Images Downloaded!\")\n",
    "             \n",
    "        # if all images not download\n",
    "        else:\n",
    "            print(f\"Total {count} Images Downloaded Out of {len(images)}\")\n",
    " \n",
    "# MAIN FUNCTION START\n",
    "def main(url):\n",
    "    # content of URL\n",
    "    r = requests.get(url)\n",
    " \n",
    "    # Parse HTML Code\n",
    "    soup = BeautifulSoup(r.text, 'lxml')\n",
    " \n",
    "    # find all images in URL\n",
    "    images = soup.findAll('img')\n",
    " \n",
    "    # Call folder create function\n",
    "    folder_create(images)\n",
    " \n",
    " \n",
    "# take url\n",
    "url = \"https://www.google.com/search?q=persona+sonriendo&hl=en-US&source=lnms&tbm=isch&sa=X&ved=2ahUKEwjOkOSKlrH8AhUoiv0HHbhhCh0Q_AUoAXoECAEQAw&biw=1920&bih=961&dpr=1#imgrc=javu9M4ZhdspnM&imgdii=HlkHY_SswF4syM\"\n",
    " \n",
    "# CALL MAIN FUNCTION\n",
    "main(url)"
   ]
  }
 ],
 "metadata": {
  "kernelspec": {
   "display_name": "Python 3.9.15 ('vc_final')",
   "language": "python",
   "name": "python3"
  },
  "language_info": {
   "codemirror_mode": {
    "name": "ipython",
    "version": 3
   },
   "file_extension": ".py",
   "mimetype": "text/x-python",
   "name": "python",
   "nbconvert_exporter": "python",
   "pygments_lexer": "ipython3",
   "version": "3.9.15"
  },
  "orig_nbformat": 4,
  "vscode": {
   "interpreter": {
    "hash": "4e0c6bfdfb0051da37e72a23c2eddf2afe48bdf0c527ea1daf5729e048ec2324"
   }
  }
 },
 "nbformat": 4,
 "nbformat_minor": 2
}
