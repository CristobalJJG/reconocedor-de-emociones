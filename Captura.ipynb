{
 "cells": [
  {
   "cell_type": "code",
   "execution_count": 25,
   "metadata": {},
   "outputs": [],
   "source": [
    "import cv2\n",
    "import os\n",
    "import imutils"
   ]
  },
  {
   "cell_type": "code",
   "execution_count": 26,
   "metadata": {
    "notebookRunGroups": {
     "groupValue": "1"
    }
   },
   "outputs": [],
   "source": [
    "#emotionName = 'Enojo'\n",
    "#emotionName = 'Neutro'\n",
    "#emotionName = 'Felicidad'\n",
    "#emotionName = 'Sorpresa'\n",
    "emotionName = 'Tristeza'"
   ]
  },
  {
   "cell_type": "code",
   "execution_count": 27,
   "metadata": {
    "notebookRunGroups": {
     "groupValue": "1"
    }
   },
   "outputs": [
    {
     "name": "stdout",
     "output_type": "stream",
     "text": [
      "Carpeta creada:  C:/Users/crist/OneDrive/Escritorio/p_final_vc/fotos_entrenamiento/Tristeza\n"
     ]
    }
   ],
   "source": [
    "dataPath = 'C:/Users/crist/OneDrive/Escritorio/p_final_vc/fotos_entrenamiento' \n",
    "emotionsPath = dataPath + '/' + emotionName\n",
    "\n",
    "if not os.path.exists(emotionsPath):\n",
    "\tprint('Carpeta creada: ',emotionsPath)\n",
    "\tos.makedirs(emotionsPath)"
   ]
  },
  {
   "cell_type": "markdown",
   "metadata": {},
   "source": [
    "Para añadir más muestras cambiar la variable **<code>count</code>** de la siguiente celda al número que ya haya en la carpeta correspondiente (Probablemente sea un número tipo x99, debido a que se sacaban en rangos de 200 fotos, por lo que acabarán en 199, 399, 599...).\n",
    " \n",
    "Ruego, por favor, **no quitar las fotos ya existentes**. No soy una persona que le guste mirarse, y he tenido que mirarme demasiado y poner muchas caras raras que no estoy acostumbrado para que todo pudiera salir lo mejor posible, muchas gracias. 🥰"
   ]
  },
  {
   "cell_type": "code",
   "execution_count": 28,
   "metadata": {},
   "outputs": [],
   "source": [
    "cap = cv2.VideoCapture(0,cv2.CAP_DSHOW)\n",
    "\n",
    "faceClassif = cv2.CascadeClassifier(cv2.data.haarcascades+'haarcascade_frontalface_default.xml')\n",
    "count = 0\n",
    "\n",
    "while True:\n",
    "\n",
    "\tret, frame = cap.read()\n",
    "\tif ret == False: break\n",
    "\tframe =  imutils.resize(frame, width=640)\n",
    "\tgray = cv2.cvtColor(frame, cv2.COLOR_BGR2GRAY)\n",
    "\tauxFrame = frame.copy()\n",
    "\n",
    "\tfaces = faceClassif.detectMultiScale(gray,\n",
    "\t\t\t\t\t\t\t\t\tscaleFactor=1.1,\n",
    "\t\t\t\t\t\t\t\t\tminNeighbors=10,\n",
    "\t\t\t\t\t\t\t\t\tminSize=(30, 30),\n",
    "\t\t\t\t\t\t\t\t)\n",
    "\n",
    "\tfor (x,y,w,h) in faces:\n",
    "\t\tcv2.rectangle(frame, (x,y),(x+w,y+h),(255,100,150),2)\n",
    "\t\trostro = auxFrame[y:y+h,x:x+w]\n",
    "\t\trostro = cv2.resize(rostro,(250,250),interpolation=cv2.INTER_CUBIC)\n",
    "\t\tcv2.imwrite(emotionsPath + '/rostro_{}.jpg'.format(count),rostro)\n",
    "\t\tcount = count + 1\n",
    "\tcv2.imshow('frame',frame)\n",
    "\n",
    "\tk =  cv2.waitKey(1)\n",
    "\tif k == 27 or count >= 400:\n",
    "\t\tbreak\n",
    "\n",
    "cap.release()\n",
    "cv2.destroyAllWindows()"
   ]
  }
 ],
 "metadata": {
  "kernelspec": {
   "display_name": "Python 3.9.0 ('vc_final')",
   "language": "python",
   "name": "python3"
  },
  "language_info": {
   "codemirror_mode": {
    "name": "ipython",
    "version": 3
   },
   "file_extension": ".py",
   "mimetype": "text/x-python",
   "name": "python",
   "nbconvert_exporter": "python",
   "pygments_lexer": "ipython3",
   "version": "3.9.15"
  },
  "orig_nbformat": 4,
  "vscode": {
   "interpreter": {
    "hash": "4e0c6bfdfb0051da37e72a23c2eddf2afe48bdf0c527ea1daf5729e048ec2324"
   }
  }
 },
 "nbformat": 4,
 "nbformat_minor": 2
}
