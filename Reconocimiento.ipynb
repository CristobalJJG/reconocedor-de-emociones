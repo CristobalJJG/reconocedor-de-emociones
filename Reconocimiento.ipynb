{
 "cells": [
  {
   "cell_type": "markdown",
   "metadata": {},
   "source": [
    "<code>pip install retina-face</code>\n",
    "\n"
   ]
  },
  {
   "cell_type": "code",
   "execution_count": 2,
   "metadata": {},
   "outputs": [],
   "source": [
    "import cv2\n",
    "import os\n",
    "import numpy as np\n",
    "from retinaface import RetinaFace"
   ]
  },
  {
   "cell_type": "code",
   "execution_count": 3,
   "metadata": {},
   "outputs": [],
   "source": [
    "def emotionImage(emotion):\n",
    "\t# Emojis\n",
    "\tif emotion == 'Felicidad': image = cv2.imread('./Emojis/Felicidad.png')\n",
    "\tif emotion == 'Enojo': image = cv2.imread('./Emojis/Enojado.png')\n",
    "\tif emotion == 'Sorpresa': image = cv2.imread('./Emojis/Sorpresa.png')\n",
    "\tif emotion == 'Tristeza': image = cv2.imread('./Emojis/Tristeza.png')\n",
    "\tif emotion == 'Neutro': image = cv2.imread('./Emojis/Neutro.png')\n",
    "\treturn image"
   ]
  },
  {
   "cell_type": "code",
   "execution_count": 4,
   "metadata": {},
   "outputs": [],
   "source": [
    "emotion_recognizer = cv2.face.LBPHFaceRecognizer_create()\n",
    "emotion_recognizer.read('./Modelos/modeloLBPH.xml')"
   ]
  },
  {
   "cell_type": "code",
   "execution_count": 5,
   "metadata": {},
   "outputs": [
    {
     "name": "stdout",
     "output_type": "stream",
     "text": [
      "imagePaths= ['Enojo', 'Felicidad', 'Neutro', 'Sorpresa', 'Tristeza']\n"
     ]
    }
   ],
   "source": [
    "dataPath = './fotos_entrenamiento/' #Cambia a la ruta donde hayas almacenado Data\n",
    "imagePaths = os.listdir(dataPath)\n",
    "print('imagePaths=',imagePaths)"
   ]
  },
  {
   "cell_type": "code",
   "execution_count": 6,
   "metadata": {},
   "outputs": [],
   "source": [
    "cap = cv2.VideoCapture(0)\n",
    "\n",
    "faceClassif = cv2.CascadeClassifier(cv2.data.haarcascades+'haarcascade_frontalface_default.xml')\n",
    "\n",
    "while True:\n",
    "\n",
    "\tret,frame = cap.read()\n",
    "\tif ret == False: break\n",
    "\tgray = cv2.cvtColor(frame, cv2.COLOR_BGR2GRAY)\n",
    "\tauxFrame = gray.copy()\n",
    " \n",
    "\tfaces = faceClassif.detectMultiScale(gray,\n",
    "\t\t\t\t\t\t\t\t\tscaleFactor=1.1,\n",
    "\t\t\t\t\t\t\t\t\tminNeighbors=10,\n",
    "\t\t\t\t\t\t\t\t\tminSize=(30, 30),\n",
    "\t\t\t\t\t\t\t\t)\n",
    "\n",
    "\tfor (x,y,w,h) in faces:\n",
    "\t\trostro = auxFrame[y:y+h,x:x+w]\n",
    "\t\trostro = cv2.resize(rostro,(150,150),interpolation= cv2.INTER_CUBIC)\n",
    "\t\tresult = emotion_recognizer.predict(rostro)\n",
    "\n",
    "\t\tcv2.putText(frame,'{}'.format(result),(x,y-5),1,1.3,(255,255,0),1,cv2.LINE_AA)\n",
    "  \n",
    "\t\tif result[1] < 60:\n",
    "\t\t\t#print(result)\n",
    "\t\t\tif(result[0] is 0): color = (50, 50, 255)\n",
    "\t\t\tif(result[0] is 1): color = (50, 255, 100)\n",
    "\t\t\tif(result[0] is 2): color = (255, 255, 255)\n",
    "\t\t\tif(result[0] is 3): color = (255, 255, 75)\n",
    "\t\t\tif(result[0] is 4): color = (255, 50, 75)\n",
    "\t\t\tcv2.putText(frame,'{}'.format(imagePaths[result[0]]),(x,y-25),2,1.1,(color),1,cv2.LINE_AA)\n",
    "\t\t\tcv2.rectangle(frame, (x,y),(x+w,y+h),color,2)\n",
    "\t\t\t#nFrame = cv2.hconcat([frame,image])\n",
    "\t\telse:\n",
    "\t\t\tcv2.putText(frame,'No identificado',(x,y-20),2,0.8,(0,0,255),1,cv2.LINE_AA)\n",
    "\t\t\tcv2.rectangle(frame, (x,y),(x+w,y+h),(0,0,255),2)\n",
    "\t\t\t#nFrame = cv2.hconcat([frame,np.zeros((480,300,3),dtype=np.uint8)])\n",
    "\n",
    "\tcv2.imshow('Vigila tus sentimientos',frame)\n",
    "\tk = cv2.waitKey(1)\n",
    "\tif k == 27:\n",
    "\t\tbreak\n",
    "\n",
    "cap.release()\n",
    "cv2.destroyAllWindows()"
   ]
  }
 ],
 "metadata": {
  "kernelspec": {
   "display_name": "Python 3.9.15 ('vc_final')",
   "language": "python",
   "name": "python3"
  },
  "language_info": {
   "codemirror_mode": {
    "name": "ipython",
    "version": 3
   },
   "file_extension": ".py",
   "mimetype": "text/x-python",
   "name": "python",
   "nbconvert_exporter": "python",
   "pygments_lexer": "ipython3",
   "version": "3.9.15"
  },
  "orig_nbformat": 4,
  "vscode": {
   "interpreter": {
    "hash": "4e0c6bfdfb0051da37e72a23c2eddf2afe48bdf0c527ea1daf5729e048ec2324"
   }
  }
 },
 "nbformat": 4,
 "nbformat_minor": 2
}
