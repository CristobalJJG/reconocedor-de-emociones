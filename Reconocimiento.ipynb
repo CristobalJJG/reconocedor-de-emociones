{
 "cells": [
  {
   "cell_type": "markdown",
   "metadata": {},
   "source": [
    "<code>pip install retina-face</code>\n"
   ]
  },
  {
   "cell_type": "code",
   "execution_count": 24,
   "metadata": {},
   "outputs": [],
   "source": [
    "import cv2\n",
    "import os\n",
    "import numpy as np"
   ]
  },
  {
   "cell_type": "code",
   "execution_count": 25,
   "metadata": {},
   "outputs": [],
   "source": [
    "def emotionImage(emotion):\n",
    "\t# Emojis\n",
    "\tif emotion == 'Felicidad': \timage = cv2.imread('./Emojis/Felicidad.png', cv2.IMREAD_UNCHANGED)\n",
    "\tif emotion == 'Enojo': \t\timage = cv2.imread('./Emojis/Enojado.png', cv2.IMREAD_UNCHANGED)\n",
    "\tif emotion == 'Sorpresa': \timage = cv2.imread('./Emojis/Sorpresa.png', cv2.IMREAD_UNCHANGED)\n",
    "\tif emotion == 'Tristeza': \timage = cv2.imread('./Emojis/Tristeza.png', cv2.IMREAD_UNCHANGED)\n",
    "\tif emotion == 'Neutro': \timage = cv2.imread('./Emojis/Neutro.png', cv2.IMREAD_UNCHANGED)\n",
    "\treturn image"
   ]
  },
  {
   "cell_type": "code",
   "execution_count": 26,
   "metadata": {},
   "outputs": [],
   "source": [
    "emotion_recognizer = cv2.face.LBPHFaceRecognizer_create()\n",
    "emotion_recognizer.read('./Modelos/modeloLBPH.xml')"
   ]
  },
  {
   "cell_type": "code",
   "execution_count": 27,
   "metadata": {},
   "outputs": [
    {
     "name": "stdout",
     "output_type": "stream",
     "text": [
      "imagePaths= ['Enojo', 'Felicidad', 'Neutro', 'Sorpresa', 'Tristeza']\n"
     ]
    }
   ],
   "source": [
    "dataPath = './fotos_entrenamiento/'\n",
    "imagePaths = os.listdir(dataPath)\n",
    "print('imagePaths=',imagePaths)"
   ]
  },
  {
   "cell_type": "code",
   "execution_count": 28,
   "metadata": {},
   "outputs": [
    {
     "name": "stdout",
     "output_type": "stream",
     "text": [
      "Camera 0\n"
     ]
    },
    {
     "ename": "NameError",
     "evalue": "name 'image' is not defined",
     "output_type": "error",
     "traceback": [
      "\u001b[1;31m---------------------------------------------------------------------------\u001b[0m",
      "\u001b[1;31mNameError\u001b[0m                                 Traceback (most recent call last)",
      "Cell \u001b[1;32mIn[28], line 34\u001b[0m\n\u001b[0;32m     31\u001b[0m result \u001b[38;5;241m=\u001b[39m emotion_recognizer\u001b[38;5;241m.\u001b[39mpredict(rostro)\n\u001b[0;32m     33\u001b[0m \u001b[38;5;66;03m#cv2.putText(frame,'{}'.format(result),(x,y-5),1,1.3,(255,255,0),1,cv2.LINE_AA)\u001b[39;00m\n\u001b[1;32m---> 34\u001b[0m resized \u001b[38;5;241m=\u001b[39m cv2\u001b[38;5;241m.\u001b[39mresize(\u001b[43mimage\u001b[49m, (w, h), interpolation \u001b[38;5;241m=\u001b[39m cv2\u001b[38;5;241m.\u001b[39mINTER_AREA)\n\u001b[0;32m     35\u001b[0m filas \u001b[38;5;241m=\u001b[39m resized\u001b[38;5;241m.\u001b[39mshape[\u001b[38;5;241m0\u001b[39m]\n\u001b[0;32m     36\u001b[0m col \u001b[38;5;241m=\u001b[39m w\n",
      "\u001b[1;31mNameError\u001b[0m: name 'image' is not defined"
     ]
    }
   ],
   "source": [
    "cap = cv2.VideoCapture(0)\n",
    "if not cap.isOpened():\n",
    "    cap = cv2.VideoCapture(1)\n",
    "    if not cap.isOpened():\n",
    "        cap = cv2.VideoCapture(0)\n",
    "        if not cap.isOpened():\n",
    "            print('Camera error')\n",
    "            exit(0)\n",
    "        else: print('Camera 0')\n",
    "    else: print('Camera 1')\n",
    "else: print('Camera 0')\n",
    "\n",
    "faceClassif = cv2.CascadeClassifier(cv2.data.haarcascades+'haarcascade_frontalface_default.xml')\n",
    "\n",
    "while True:\n",
    "\n",
    "\tret,frame = cap.read()\n",
    "\tif ret == False: break\n",
    "\tgray = cv2.cvtColor(frame, cv2.COLOR_BGR2GRAY)\n",
    "\tauxFrame = gray.copy()\n",
    " \n",
    "\tfaces = faceClassif.detectMultiScale(gray,\n",
    "\t\t\t\t\t\t\t\t\tscaleFactor=1.1,\n",
    "\t\t\t\t\t\t\t\t\tminNeighbors=3,\n",
    "\t\t\t\t\t\t\t\t\tminSize=(5, 5),\n",
    "\t\t\t\t\t\t\t\t)\n",
    "\n",
    "\tfor (x,y,w,h) in faces:\n",
    "\t\trostro = auxFrame[y:y+h,x:x+w]\n",
    "\t\trostro = cv2.resize(rostro,(150,150),interpolation= cv2.INTER_CUBIC)\n",
    "\t\tresult = emotion_recognizer.predict(rostro)\n",
    "\n",
    "\t\t#cv2.putText(frame,'{}'.format(result),(x,y-5),1,1.3,(255,255,0),1,cv2.LINE_AA)\n",
    "\t\tresized = cv2.resize(image, (w, h), interpolation = cv2.INTER_AREA)\n",
    "\t\tfilas = resized.shape[0]\n",
    "\t\tcol = w\n",
    "\t\talto = filas // 3\n",
    "\t\tif result[1] < 60:\n",
    "\t\t\t#print(result)\n",
    "\t\t\tif(result[0] is 0): color = (50, 50, 255)\n",
    "\t\t\telif(result[0] is 1): color = (50, 255, 100)\n",
    "\t\t\telif(result[0] is 2): color = (255, 255, 255)\n",
    "\t\t\telif(result[0] is 3): color = (255, 255, 75)\n",
    "\t\t\telif(result[0] is 4): color = (255, 50, 75)\n",
    "   \n",
    "\t\t\t#Emoticono\n",
    "\t\t\tn_frame = frame[y - h + alto:y + alto, x:x + col]\n",
    "\t\t\timage = resized[:, :, 3]\n",
    "\t\t\timage_inv = cv2.bitwise_not(image)\n",
    "                \n",
    "\t\t\tbg_black = cv2.bitwise_and(resized, resized, mask = image)\n",
    "\t\t\tbg_black = bg_black[:, :, 0:3]\n",
    "\t\t\tbg_frame = cv2.bitwise_and(n_frame, n_frame, mask = image_inv)\n",
    "                    \n",
    "\t\t\tresult = cv2.add(bg_black, bg_frame)\n",
    "\t\t\tframe[y-filas+alto:y+alto, x:x+col] = result\n",
    "   \n",
    "\t\t\tcv2.putText(frame,'{}'.format(imagePaths[result[0]]),(x,y-10),2,1.1,(color),1,cv2.LINE_AA)\n",
    "\t\t\tcv2.rectangle(frame, (x,y),(x+w,y+h),color,2)\n",
    "\t\t\t#nFrame = cv2.hconcat([frame,image])\n",
    "\t\telse:\n",
    "\t\t\tcv2.putText(frame,'No identificado',(x,y-20),2,0.8,(0,0,255),1,cv2.LINE_AA)\n",
    "\t\t\tcv2.rectangle(frame, (x,y),(x+w,y+h),(0,0,255),2)\n",
    "\t\t\t#nFrame = cv2.hconcat([frame,np.zeros((480,300,3),dtype=np.uint8)])\n",
    "\n",
    "\tcv2.imshow('Vigila tus sentimientos',frame)\n",
    "\tk = cv2.waitKey(1)\n",
    "\tif k == 27:\n",
    "\t\tbreak\n",
    "\n",
    "cap.release()\n",
    "cv2.destroyAllWindows()"
   ]
  }
 ],
 "metadata": {
  "kernelspec": {
   "display_name": "Python 3.9.15 ('vc_final')",
   "language": "python",
   "name": "python3"
  },
  "language_info": {
   "codemirror_mode": {
    "name": "ipython",
    "version": 3
   },
   "file_extension": ".py",
   "mimetype": "text/x-python",
   "name": "python",
   "nbconvert_exporter": "python",
   "pygments_lexer": "ipython3",
   "version": "3.9.15"
  },
  "orig_nbformat": 4,
  "vscode": {
   "interpreter": {
    "hash": "4e0c6bfdfb0051da37e72a23c2eddf2afe48bdf0c527ea1daf5729e048ec2324"
   }
  }
 },
 "nbformat": 4,
 "nbformat_minor": 2
}
