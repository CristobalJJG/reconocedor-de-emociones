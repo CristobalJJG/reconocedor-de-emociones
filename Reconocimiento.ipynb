{
 "cells": [
  {
   "cell_type": "markdown",
   "metadata": {},
   "source": [
    "<code>pip install retina-face</code>\n",
    "\n"
   ]
  },
  {
   "cell_type": "code",
   "execution_count": 39,
   "metadata": {},
   "outputs": [],
   "source": [
    "import cv2\n",
    "import os\n",
    "import numpy as np\n",
    "from retinaface import RetinaFace"
   ]
  },
  {
   "cell_type": "code",
   "execution_count": 40,
   "metadata": {},
   "outputs": [],
   "source": [
    "def emotionImage(emotion):\n",
    "\t# Emojis\n",
    "\tif emotion == 'Felicidad': image = cv2.imread('./Emojis/Felicidad.png')\n",
    "\tif emotion == 'Enojo': image = cv2.imread('./Emojis/Enojado.png')\n",
    "\tif emotion == 'Sorpresa': image = cv2.imread('./Emojis/Sorpresa.png')\n",
    "\tif emotion == 'Tristeza': image = cv2.imread('./Emojis/Tristeza.png')\n",
    "\tif emotion == 'Neutro': image = cv2.imread('./Emojis/Neutro.png')\n",
    "\treturn image"
   ]
  },
  {
   "cell_type": "markdown",
   "metadata": {},
   "source": [
    "De más rápido a más lento:\n",
    " * LBPH (Reconoce bastante bien)\n",
    " * FisherFaces ()"
   ]
  },
  {
   "cell_type": "code",
   "execution_count": 41,
   "metadata": {},
   "outputs": [],
   "source": [
    "emotion_recognizer = cv2.face.LBPHFaceRecognizer_create()\n",
    "emotion_recognizer.read('./Modelos/modeloLBPH.xml')"
   ]
  },
  {
   "cell_type": "code",
   "execution_count": 42,
   "metadata": {},
   "outputs": [
    {
     "name": "stdout",
     "output_type": "stream",
     "text": [
      "imagePaths= ['Enojo', 'Felicidad', 'Neutro', 'Sorpresa', 'Tristeza']\n"
     ]
    }
   ],
   "source": [
    "dataPath = './fotos_entrenamiento/' #Cambia a la ruta donde hayas almacenado Data\n",
    "imagePaths = os.listdir(dataPath)\n",
    "print('imagePaths=',imagePaths)"
   ]
  },
  {
   "cell_type": "code",
   "execution_count": 47,
   "metadata": {},
   "outputs": [
    {
     "name": "stdout",
     "output_type": "stream",
     "text": [
      "(1, 41.80715901755414)\n",
      "(4, 42.268902420110244)\n",
      "(2, 39.49053452654558)\n",
      "(2, 37.34075343020296)\n",
      "(2, 37.78591047594454)\n",
      "(2, 38.290198779356665)\n",
      "(2, 37.15583019019811)\n",
      "(2, 36.60944960604886)\n",
      "(2, 37.20615219443976)\n",
      "(2, 36.5864020541693)\n",
      "(2, 36.98239958666728)\n",
      "(2, 37.41954740485319)\n",
      "(2, 36.398993214404456)\n",
      "(2, 37.204929721595214)\n",
      "(1, 40.11746136554229)\n",
      "(1, 41.42557489668726)\n",
      "(1, 41.994958820964)\n",
      "(1, 39.709641757026645)\n",
      "(1, 41.55649532314299)\n",
      "(1, 41.17269096023716)\n",
      "(1, 43.951623613611055)\n",
      "(1, 38.628521900348105)\n",
      "(1, 38.75192205167385)\n",
      "(1, 39.236786826808135)\n",
      "(1, 38.75293453121802)\n",
      "(2, 37.445838304415474)\n",
      "(2, 40.55992809743113)\n",
      "(4, 35.45185119770365)\n",
      "(4, 37.50278592000299)\n",
      "(4, 40.88968455096689)\n",
      "(4, 37.50994129072563)\n",
      "(4, 36.04667549460033)\n",
      "(4, 36.482320641391915)\n",
      "(4, 35.963741449621644)\n",
      "(4, 37.36669695273455)\n",
      "(4, 35.65504106717731)\n",
      "(4, 36.49783074481376)\n",
      "(4, 37.87698868568768)\n",
      "(4, 36.739149240936264)\n",
      "(4, 37.44141199076545)\n",
      "(0, 37.002043086028806)\n",
      "(2, 37.37965921036172)\n",
      "(0, 37.749061510518)\n",
      "(0, 39.012014034754706)\n",
      "(0, 38.56556743565139)\n",
      "(0, 38.02222437319914)\n",
      "(0, 38.77094152716745)\n",
      "(0, 38.495941303735385)\n",
      "(0, 38.68660000978688)\n",
      "(0, 38.68649951205496)\n",
      "(0, 38.96173394951365)\n",
      "(2, 38.531752959206614)\n",
      "(2, 40.974245966525096)\n",
      "(3, 40.02024156073639)\n",
      "(3, 40.04691864039768)\n",
      "(3, 40.20645683937256)\n",
      "(3, 39.715142558849955)\n",
      "(3, 42.23777676278011)\n",
      "(3, 42.741477447522215)\n",
      "(3, 41.76889339997168)\n",
      "(3, 42.215863435593896)\n",
      "(3, 42.9451014298228)\n",
      "(2, 44.38894161255792)\n",
      "(4, 59.03780341485334)\n",
      "(4, 59.931657773691754)\n",
      "(4, 59.592958422681704)\n",
      "(4, 57.42568773735854)\n",
      "(4, 58.318090946084354)\n",
      "(4, 57.47606798880717)\n",
      "(4, 56.206069269878924)\n",
      "(4, 56.68838082407607)\n",
      "(4, 57.90235598561862)\n",
      "(4, 57.94722030794776)\n",
      "(4, 59.7354183980485)\n",
      "(4, 59.69757443939166)\n",
      "(4, 55.1848281144347)\n",
      "(2, 54.66095148147099)\n",
      "(1, 54.634000299783544)\n",
      "(1, 49.72656388608982)\n",
      "(1, 53.21020180398144)\n",
      "(1, 52.82414968631141)\n",
      "(1, 56.48426519617316)\n",
      "(1, 58.21346953319185)\n",
      "(1, 58.22535953799008)\n",
      "(1, 59.150747401411486)\n",
      "(1, 59.54961537695376)\n",
      "(0, 57.9201587333772)\n",
      "(4, 59.52037275246821)\n",
      "(4, 57.777481154662205)\n",
      "(4, 55.24894189087476)\n",
      "(4, 59.590140728511884)\n",
      "(4, 57.21036187850224)\n",
      "(4, 57.981780576705944)\n",
      "(4, 50.42439588574104)\n",
      "(4, 43.480174632720725)\n",
      "(2, 45.2391142963942)\n",
      "(4, 43.178303311105296)\n",
      "(2, 43.682734212726665)\n",
      "(4, 43.493703611502205)\n",
      "(2, 44.29457498506654)\n",
      "(1, 43.40686401146161)\n",
      "(1, 44.93549869302358)\n",
      "(1, 44.1734098613601)\n",
      "(1, 43.45309464124036)\n",
      "(1, 44.043711980491196)\n",
      "(1, 43.22477686219637)\n",
      "(2, 58.211573044018394)\n",
      "(0, 59.50534613183763)\n",
      "(4, 53.85181982803719)\n",
      "(4, 51.028839664917044)\n",
      "(0, 46.12015766333705)\n",
      "(2, 47.60555163984476)\n"
     ]
    }
   ],
   "source": [
    "cap = cv2.VideoCapture(0)\n",
    "\n",
    "faceClassif = cv2.CascadeClassifier(cv2.data.haarcascades+'haarcascade_frontalface_default.xml')\n",
    "\n",
    "while True:\n",
    "\n",
    "\tret,frame = cap.read()\n",
    "\tif ret == False: break\n",
    "\tgray = cv2.cvtColor(frame, cv2.COLOR_BGR2GRAY)\n",
    "\tauxFrame = gray.copy()\n",
    " \n",
    "\tfaces = faceClassif.detectMultiScale(gray,\n",
    "\t\t\t\t\t\t\t\t\tscaleFactor=1.1,\n",
    "\t\t\t\t\t\t\t\t\tminNeighbors=10,\n",
    "\t\t\t\t\t\t\t\t\tminSize=(30, 30),\n",
    "\t\t\t\t\t\t\t\t)\n",
    "\n",
    "\tfor (x,y,w,h) in faces:\n",
    "\t\trostro = auxFrame[y:y+h,x:x+w]\n",
    "\t\trostro = cv2.resize(rostro,(150,150),interpolation= cv2.INTER_CUBIC)\n",
    "\t\tresult = emotion_recognizer.predict(rostro)\n",
    "\n",
    "\t\tcv2.putText(frame,'{}'.format(result),(x,y-5),1,1.3,(255,255,0),1,cv2.LINE_AA)\n",
    "  \n",
    "\t\tif result[1] < 60:\n",
    "\t\t\tprint(result)\n",
    "\t\t\tif(result[0] is 0): color = (50, 50, 255)\n",
    "\t\t\tif(result[0] is 1): color = (50, 255, 100)\n",
    "\t\t\tif(result[0] is 2): color = (255, 255, 255)\n",
    "\t\t\tif(result[0] is 3): color = (255, 255, 75)\n",
    "\t\t\tif(result[0] is 4): color = (255, 50, 75)\n",
    "\t\t\tcv2.putText(frame,'{}'.format(imagePaths[result[0]]),(x,y-25),2,1.1,(color),1,cv2.LINE_AA)\n",
    "\t\t\tcv2.rectangle(frame, (x,y),(x+w,y+h),color,2)\n",
    "\t\t\t#nFrame = cv2.hconcat([frame,image])\n",
    "\t\telse:\n",
    "\t\t\tcv2.putText(frame,'No identificado',(x,y-20),2,0.8,(0,0,255),1,cv2.LINE_AA)\n",
    "\t\t\tcv2.rectangle(frame, (x,y),(x+w,y+h),(0,0,255),2)\n",
    "\t\t\t#nFrame = cv2.hconcat([frame,np.zeros((480,300,3),dtype=np.uint8)])\n",
    "\n",
    "\tcv2.imshow('Vigila tus sentimientos',frame)\n",
    "\tk = cv2.waitKey(1)\n",
    "\tif k == 27:\n",
    "\t\tbreak\n",
    "\n",
    "cap.release()\n",
    "cv2.destroyAllWindows()"
   ]
  }
 ],
 "metadata": {
  "kernelspec": {
   "display_name": "Python 3.9.15 ('vc_final')",
   "language": "python",
   "name": "python3"
  },
  "language_info": {
   "codemirror_mode": {
    "name": "ipython",
    "version": 3
   },
   "file_extension": ".py",
   "mimetype": "text/x-python",
   "name": "python",
   "nbconvert_exporter": "python",
   "pygments_lexer": "ipython3",
   "version": "3.9.15"
  },
  "orig_nbformat": 4,
  "vscode": {
   "interpreter": {
    "hash": "4e0c6bfdfb0051da37e72a23c2eddf2afe48bdf0c527ea1daf5729e048ec2324"
   }
  }
 },
 "nbformat": 4,
 "nbformat_minor": 2
}
