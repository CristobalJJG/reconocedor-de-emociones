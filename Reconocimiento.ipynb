{
 "cells": [
  {
   "cell_type": "code",
   "execution_count": 1,
   "metadata": {},
   "outputs": [],
   "source": [
    "import cv2\n",
    "import os\n",
    "import numpy as np"
   ]
  },
  {
   "cell_type": "code",
   "execution_count": 2,
   "metadata": {},
   "outputs": [],
   "source": [
    "def emotionImage(emotion):\n",
    "\t# Emojis\n",
    "\tif emotion == 0: \t\timage = cv2.imread('./Emojis/Enojado.png', cv2.IMREAD_UNCHANGED)\n",
    "\tif emotion == 1: \timage = cv2.imread('./Emojis/Felicidad.png', cv2.IMREAD_UNCHANGED)\n",
    "\tif emotion == 2: \timage = cv2.imread('./Emojis/Neutro.png', cv2.IMREAD_UNCHANGED)\n",
    "\tif emotion == 3: \timage = cv2.imread('./Emojis/Sorpresa.png', cv2.IMREAD_UNCHANGED)\n",
    "\tif emotion == 4: \timage = cv2.imread('./Emojis/Tristeza.png', cv2.IMREAD_UNCHANGED)\n",
    "\treturn image"
   ]
  },
  {
   "cell_type": "code",
   "execution_count": 3,
   "metadata": {},
   "outputs": [],
   "source": [
    "emotion_recognizer = cv2.face.LBPHFaceRecognizer_create()\n",
    "emotion_recognizer.read('./Modelos/modeloLBPH.xml')"
   ]
  },
  {
   "cell_type": "code",
   "execution_count": 4,
   "metadata": {},
   "outputs": [
    {
     "name": "stdout",
     "output_type": "stream",
     "text": [
      "imagePaths= ['Enojo', 'Felicidad', 'Neutro', 'Sorpresa', 'Tristeza']\n"
     ]
    }
   ],
   "source": [
    "dataPath = './fotos_entrenamiento/'\n",
    "imagePaths = os.listdir(dataPath)\n",
    "print('imagePaths=',imagePaths)"
   ]
  },
  {
   "cell_type": "code",
   "execution_count": 5,
   "metadata": {},
   "outputs": [
    {
     "name": "stdout",
     "output_type": "stream",
     "text": [
      "Camera 0\n"
     ]
    }
   ],
   "source": [
    "cap = cv2.VideoCapture(0)\n",
    "if not cap.isOpened():\n",
    "    cap = cv2.VideoCapture(1)\n",
    "    if not cap.isOpened():\n",
    "        cap = cv2.VideoCapture(0)\n",
    "        if not cap.isOpened():\n",
    "            print('Camera error')\n",
    "            exit(0)\n",
    "        else: print('Camera 0')\n",
    "    else: print('Camera 1')\n",
    "else: print('Camera 0')\n",
    "\n",
    "faceClassif = cv2.CascadeClassifier(cv2.data.haarcascades+'haarcascade_frontalface_default.xml')\n",
    "\n",
    "while True:\n",
    "\n",
    "\tret,frame = cap.read()\n",
    "\tif ret == False: break\n",
    "\tgray = cv2.cvtColor(frame, cv2.COLOR_BGR2GRAY)\n",
    "\tauxFrame = gray.copy()\n",
    " \n",
    "\tfaces = faceClassif.detectMultiScale(gray,\n",
    "\t\t\t\t\t\t\t\t\tscaleFactor=1.1,\n",
    "\t\t\t\t\t\t\t\t\tminNeighbors=3,\n",
    "\t\t\t\t\t\t\t\t\tminSize=(5, 5),\n",
    "\t\t\t\t\t\t\t\t)\n",
    "\n",
    "\tfor (x,y,w,h) in faces:\n",
    "\t\tcolor = (0, 0, 0)\n",
    "  \n",
    "\t\t# Detección del rostro\n",
    "\t\trostro = auxFrame[y:y+h,x:x+w]\n",
    "\t\trostro = cv2.resize(rostro,(150,150), cv2.INTER_CUBIC)\n",
    "\t\tresult = emotion_recognizer.predict(rostro)\n",
    "  \n",
    "\t\t# Color de la palabra y la caja en función de la emoción\n",
    "\t\tif result[1] < 60:\n",
    "\t\t\t#print(result)\n",
    "\t\t\tif(result[0] == 0): color = (50, 50, 255)\t\t# Rojizo\n",
    "\t\t\telif(result[0] == 1): color = (50, 255, 100)\t# Verde\n",
    "\t\t\telif(result[0] == 2): color = (255, 255, 255)\t# Blanco\n",
    "\t\t\telif(result[0] == 3): color = (255, 255, 75)\t# Celeste\n",
    "\t\t\telif(result[0] == 4): color = (255, 50, 75)\t\t# Azul\n",
    "   \n",
    "\t\t\t# Selección del emoticono en función del sentimiento\n",
    "\t\t\timage = emotionImage(result[0])\n",
    "\n",
    "\t\t\t\n",
    "\t\t\t# Valores auxiliares\n",
    "\t\t\tresized = cv2.resize(image, (w, h), interpolation = cv2.INTER_AREA)\n",
    "\t\t\tfilas = resized.shape[0]\n",
    "\t\t\tcol = w\n",
    "\t\t\talto = filas // 3\n",
    "   \n",
    "\t\t\t#Emoticono\n",
    "\t\t\tn_frame = frame[y - h + alto:y + alto, x:x + col]\n",
    "\t\t\timage = resized[:, :, 3]\n",
    "\t\t\timage_inv = cv2.bitwise_not(image)\n",
    "                \n",
    "\t\t\tbg_black = cv2.bitwise_and(resized, resized, mask = image)\n",
    "\t\t\tbg_black = bg_black[:, :, 0:3]\n",
    "\t\t\tbg_frame = cv2.bitwise_and(n_frame, n_frame, mask = image_inv)\n",
    "                    \n",
    "\t\t\tresult_im = cv2.add(bg_black, bg_frame)\n",
    "\t\t\tframe[y-filas+alto:y+alto, x:x+col] = result_im\n",
    "   \n",
    "\t\t\t\n",
    "\t\t\t# Texto de la emoción\n",
    "\t\t\tcv2.putText(frame,'{}'.format(imagePaths[result[0]]),(x+50,y+200),2,1.1,(color),1,cv2.LINE_AA)\n",
    "\t\t\t\n",
    "   \t\t\t#Caja que contiene la cara\n",
    "   \t\t\t#cv2.rectangle(frame, (x,y),(x+w,y+h),color,2)\n",
    "\t\t\t#cv2.putText(frame,'{}'.format(imagePaths[result[0]]),(x,y-10),2,1.1,(color),1,cv2.LINE_AA)\n",
    "\t\t\t#cv2.putText(frame,'{}'.format(result),(x,y-5),1,1.3,(255,255,0),1,cv2.LINE_AA)\n",
    "   \n",
    "\t\telse:\n",
    "\t\t\tcv2.putText(frame,'No identificado',(x,y-20),2,0.8,(0,0,255),1,cv2.LINE_AA)\n",
    "\t\t\t#cv2.rectangle(frame, (x,y),(x+w,y+h),(0,0,255),2)\n",
    "\n",
    "\tcv2.imshow('Vigila tus sentimientos',frame)\n",
    "\tk = cv2.waitKey(1)\n",
    "\tif k == 27:\n",
    "\t\tbreak\n",
    "\n",
    "cap.release()\n",
    "cv2.destroyAllWindows()"
   ]
  }
 ],
 "metadata": {
  "kernelspec": {
   "display_name": "Python 3.9.15 ('vc_final')",
   "language": "python",
   "name": "python3"
  },
  "language_info": {
   "codemirror_mode": {
    "name": "ipython",
    "version": 3
   },
   "file_extension": ".py",
   "mimetype": "text/x-python",
   "name": "python",
   "nbconvert_exporter": "python",
   "pygments_lexer": "ipython3",
   "version": "3.9.15"
  },
  "orig_nbformat": 4,
  "vscode": {
   "interpreter": {
    "hash": "4e0c6bfdfb0051da37e72a23c2eddf2afe48bdf0c527ea1daf5729e048ec2324"
   }
  }
 },
 "nbformat": 4,
 "nbformat_minor": 2
}
