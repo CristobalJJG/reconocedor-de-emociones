{
 "cells": [
  {
   "cell_type": "markdown",
   "metadata": {},
   "source": [
    "En general, se han importado imutils, sklearn, matplotlib, deepface y opencv-contrib-python (__upgraded__)"
   ]
  },
  {
   "cell_type": "code",
   "execution_count": 7,
   "metadata": {},
   "outputs": [],
   "source": [
    "import cv2\n",
    "import os\n",
    "import numpy as np\n",
    "import time"
   ]
  },
  {
   "cell_type": "markdown",
   "metadata": {},
   "source": [
    "Tuvimos muchos problemas con las siguientes funciones, al final en un hilo de github entre muchos mensajes y páginas encontramos algo que nos funcionó:\n",
    "[Página de github](\thttps://github.com/opencv/opencv/issues/13848 )"
   ]
  },
  {
   "cell_type": "code",
   "execution_count": 8,
   "metadata": {},
   "outputs": [],
   "source": [
    "def obtenerModelo(facesData,labels):\n",
    "\temotion_recognizer = cv2.face.LBPHFaceRecognizer_create()\n",
    "\n",
    "\t# Entrenando el reconocedor de rostros\n",
    "\tprint(\"Entrenando ( 'LBPH' )...\")\n",
    "\tinicio = time.time()\n",
    "\temotion_recognizer.train(facesData, np.array(labels))\n",
    "\ttiempoEntrenamiento = time.time()-inicio\n",
    "\tprint(\"Tiempo de entrenamiento ( 'LBPH' ): \", tiempoEntrenamiento)\n",
    "\n",
    "\t# Almacenando el modelo obtenido\n",
    " \n",
    "\tif not os.path.exists(\"./Modelos\"):\n",
    "\t\tprint('Carpeta creada: ', \"./Modelos\")\n",
    "\t\tos.makedirs(\"./Modelos\")\n",
    "\temotion_recognizer.write( './Modelos/' + \"modeloLBPH.xml\")"
   ]
  },
  {
   "cell_type": "code",
   "execution_count": 9,
   "metadata": {},
   "outputs": [
    {
     "name": "stdout",
     "output_type": "stream",
     "text": [
      "Lista de sentimientos:  ['Enojo', 'Felicidad', 'Neutro', 'Sorpresa', 'Tristeza']\n",
      "Entrenando ( 'LBPH' )...\n",
      "Tiempo de entrenamiento ( 'LBPH' ):  30.291049242019653\n"
     ]
    }
   ],
   "source": [
    "dataPath = './fotos_entrenamiento' #Cambia a la ruta donde hayas almacenado Data\n",
    "emotionsList = os.listdir(dataPath)\n",
    "print('Lista de sentimientos: ', emotionsList)\n",
    "\n",
    "labels = []\n",
    "facesData = []\n",
    "label = 0\n",
    "\n",
    "for nameDir in emotionsList:\n",
    "\temotionsPath = dataPath + '/' + nameDir\n",
    "\n",
    "\tfor fileName in os.listdir(emotionsPath):\n",
    "\t\tlabels.append(label)\n",
    "\t\tfacesData.append(cv2.imread(emotionsPath+'/' + fileName,0))\n",
    "\tlabel = label + 1\n",
    "\n",
    "obtenerModelo(facesData,labels)"
   ]
  }
 ],
 "metadata": {
  "kernelspec": {
   "display_name": "Python 3.9.0 ('vc_final')",
   "language": "python",
   "name": "python3"
  },
  "language_info": {
   "codemirror_mode": {
    "name": "ipython",
    "version": 3
   },
   "file_extension": ".py",
   "mimetype": "text/x-python",
   "name": "python",
   "nbconvert_exporter": "python",
   "pygments_lexer": "ipython3",
   "version": "3.9.15"
  },
  "orig_nbformat": 4,
  "vscode": {
   "interpreter": {
    "hash": "4e0c6bfdfb0051da37e72a23c2eddf2afe48bdf0c527ea1daf5729e048ec2324"
   }
  }
 },
 "nbformat": 4,
 "nbformat_minor": 2
}
